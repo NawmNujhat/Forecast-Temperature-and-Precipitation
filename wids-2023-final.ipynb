{
 "cells": [
  {
   "cell_type": "code",
   "execution_count": 1,
   "id": "f483a224",
   "metadata": {
    "_cell_guid": "b1076dfc-b9ad-4769-8c92-a6c4dae69d19",
    "_uuid": "8f2839f25d086af736a60e9eeb907d3b93b6e0e5",
    "execution": {
     "iopub.execute_input": "2023-12-15T05:41:49.388612Z",
     "iopub.status.busy": "2023-12-15T05:41:49.387646Z",
     "iopub.status.idle": "2023-12-15T05:41:50.343226Z",
     "shell.execute_reply": "2023-12-15T05:41:50.341475Z"
    },
    "papermill": {
     "duration": 0.965867,
     "end_time": "2023-12-15T05:41:50.347210",
     "exception": false,
     "start_time": "2023-12-15T05:41:49.381343",
     "status": "completed"
    },
    "tags": []
   },
   "outputs": [
    {
     "name": "stdout",
     "output_type": "stream",
     "text": [
      "/kaggle/input/widsdatathon2023/train_data.csv\n",
      "/kaggle/input/widsdatathon2023/test_data.csv\n",
      "/kaggle/input/widsdatathon2023/sample_solution.csv\n"
     ]
    }
   ],
   "source": [
    "# This Python 3 environment comes with many helpful analytics libraries installed\n",
    "# It is defined by the kaggle/python Docker image: https://github.com/kaggle/docker-python\n",
    "# For example, here's several helpful packages to load\n",
    "\n",
    "import numpy as np # linear algebra\n",
    "import pandas as pd # data processing, CSV file I/O (e.g. pd.read_csv)\n",
    "\n",
    "# Input data files are available in the read-only \"../input/\" directory\n",
    "# For example, running this (by clicking run or pressing Shift+Enter) will list all files under the input directory\n",
    "\n",
    "import os\n",
    "for dirname, _, filenames in os.walk('/kaggle/input'):\n",
    "    for filename in filenames:\n",
    "        print(os.path.join(dirname, filename))\n",
    "\n",
    "# You can write up to 20GB to the current directory (/kaggle/working/) that gets preserved as output when you create a version using \"Save & Run All\" \n",
    "# You can also write temporary files to /kaggle/temp/, but they won't be saved outside of the current session"
   ]
  },
  {
   "cell_type": "code",
   "execution_count": 2,
   "id": "8b4a2a31",
   "metadata": {
    "execution": {
     "iopub.execute_input": "2023-12-15T05:41:50.357558Z",
     "iopub.status.busy": "2023-12-15T05:41:50.356906Z",
     "iopub.status.idle": "2023-12-15T05:42:16.708067Z",
     "shell.execute_reply": "2023-12-15T05:42:16.706664Z"
    },
    "papermill": {
     "duration": 26.35848,
     "end_time": "2023-12-15T05:42:16.710849",
     "exception": false,
     "start_time": "2023-12-15T05:41:50.352369",
     "status": "completed"
    },
    "tags": []
   },
   "outputs": [],
   "source": [
    "train=pd.read_csv('/kaggle/input/widsdatathon2023/train_data.csv')\n",
    "sub=pd.read_csv('/kaggle/input/widsdatathon2023/sample_solution.csv')\n",
    "test=pd.read_csv('/kaggle/input/widsdatathon2023/test_data.csv')"
   ]
  },
  {
   "cell_type": "code",
   "execution_count": 3,
   "id": "2db99b42",
   "metadata": {
    "execution": {
     "iopub.execute_input": "2023-12-15T05:42:16.717872Z",
     "iopub.status.busy": "2023-12-15T05:42:16.717478Z",
     "iopub.status.idle": "2023-12-15T05:42:16.763498Z",
     "shell.execute_reply": "2023-12-15T05:42:16.762526Z"
    },
    "papermill": {
     "duration": 0.05295,
     "end_time": "2023-12-15T05:42:16.766593",
     "exception": false,
     "start_time": "2023-12-15T05:42:16.713643",
     "status": "completed"
    },
    "tags": []
   },
   "outputs": [
    {
     "data": {
      "text/plain": [
       "array(['BSh', 'Cfa', 'BSk', 'BWk', 'BWh', 'Csa', 'Csb', 'Cfb', 'Dfb',\n",
       "       'Dsc', 'Dfc', 'Dfa', 'Dsb', 'Dwa', 'Dwb'], dtype=object)"
      ]
     },
     "execution_count": 3,
     "metadata": {},
     "output_type": "execute_result"
    }
   ],
   "source": [
    "train.climateregions__climateregion.unique()"
   ]
  },
  {
   "cell_type": "code",
   "execution_count": null,
   "id": "47b28fbc",
   "metadata": {
    "papermill": {
     "duration": 0.002525,
     "end_time": "2023-12-15T05:42:16.771991",
     "exception": false,
     "start_time": "2023-12-15T05:42:16.769466",
     "status": "completed"
    },
    "tags": []
   },
   "outputs": [],
   "source": []
  }
 ],
 "metadata": {
  "kaggle": {
   "accelerator": "none",
   "dataSources": [
    {
     "databundleVersionId": 4872828,
     "sourceId": 43454,
     "sourceType": "competition"
    }
   ],
   "dockerImageVersionId": 30587,
   "isGpuEnabled": false,
   "isInternetEnabled": true,
   "language": "python",
   "sourceType": "notebook"
  },
  "kernelspec": {
   "display_name": "Python 3",
   "language": "python",
   "name": "python3"
  },
  "language_info": {
   "codemirror_mode": {
    "name": "ipython",
    "version": 3
   },
   "file_extension": ".py",
   "mimetype": "text/x-python",
   "name": "python",
   "nbconvert_exporter": "python",
   "pygments_lexer": "ipython3",
   "version": "3.10.12"
  },
  "papermill": {
   "default_parameters": {},
   "duration": 31.912903,
   "end_time": "2023-12-15T05:42:17.396783",
   "environment_variables": {},
   "exception": null,
   "input_path": "__notebook__.ipynb",
   "output_path": "__notebook__.ipynb",
   "parameters": {},
   "start_time": "2023-12-15T05:41:45.483880",
   "version": "2.4.0"
  }
 },
 "nbformat": 4,
 "nbformat_minor": 5
}
